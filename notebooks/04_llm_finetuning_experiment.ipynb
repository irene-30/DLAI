{
 "cells": [
  {
   "cell_type": "markdown",
   "metadata": {},
   "source": [
    "# 4. LLM Fine-Tuning (Stage 2)\n",
    "\n",
    "**Objective:** Train the main Language Model (e.g., GPT-2) on the `assorted_train.jsonl` dataset we just created. We will use the Hugging Face `Trainer` for this."
   ]
  },
  {
   "cell_type": "code",
   "execution_count": null,
   "metadata": {},
   "outputs": [],
   "source": [
    "%pip install datasets transformers torch accelerate"
   ]
  },
  {
   "cell_type": "code",
   "execution_count": null,
   "metadata": {},
   "outputs": [],
   "source": [
    "import sys\n",
    "import os\n",
    "import torch\n",
    "from transformers import Trainer, TrainingArguments\n",
    "\n",
    "# Add 'src' to path\n",
    "sys.path.append(os.path.abspath(os.path.join(os.getcwd(), '..')))\n",
    "\n",
    "from src.utils import (\n",
    "    get_llm_tokenizer, MAX_SEQ_LEN, LLM_MODEL_NAME, \n",
    "    PATH_LLM_MODEL, PATH_PROCESSED_DATA\n",
    ")\n",
    "from src.dataset import AssortedDataset\n",
    "from src.model.transformer import get_llm_model\n",
    "\n",
    "device = torch.device(\"cuda\" if torch.cuda.is_available() else \"cpu\")\n",
    "print(f\"Using device: {device}\")"
   ]
  },
  {
   "cell_type": "markdown",
   "metadata": {},
   "source": [
    "## 4.1 Load Tokenizer and Assorted Dataset"
   ]
  },
  {
   "cell_type": "code",
   "execution_count": null,
   "metadata": {},
   "outputs": [],
   "source": [
    "tokenizer = get_llm_tokenizer()\n",
    "\n",
    "try:\n",
    "    train_dataset = AssortedDataset(\n",
    "        tokenizer, \n",
    "        file_path=PATH_PROCESSED_DATA, \n",
    "        max_length=MAX_SEQ_LEN\n",
    "    )\n",
    "    print(f\"Loaded {len(train_dataset)} assorted samples.\")\n",
    "except FileNotFoundError:\n",
    "    print(f\"ERROR: Processed data not found at {PATH_PROCESSED_DATA}\")\n",
    "    print(\"Please run '03_preprocessing_assorted.ipynb' first.\")"
   ]
  },
  {
   "cell_type": "markdown",
   "metadata": {},
   "source": [
    "## 4.2 Load LLM and Resize Embeddings"
   ]
  },
  {
   "cell_type": "code",
   "execution_count": null,
   "metadata": {},
   "outputs": [],
   "source": [
    "# This helper function loads the model AND resizes its token embeddings\n",
    "model = get_llm_model(\n",
    "    model_name=LLM_MODEL_NAME, \n",
    "    tokenizer_len=len(tokenizer)\n",
    ").to(device)\n",
    "\n",
    "print(f\"LLM parameters: {sum(p.numel() for p in model.parameters())/1e6:.2f}M\")"
   ]
  },
  {
   "cell_type": "markdown",
   "metadata": {},
   "source": [
    "## 4.3 Set Up Trainer and Run"
   ]
  },
  {
   "cell_type": "code",
   "execution_count": null,
   "metadata": {},
   "outputs": [],
   "source": [
    "# --- Training Configuration ---\n",
    "NUM_TRAIN_EPOCHS = 1 # Increase for a real run\n",
    "PER_DEVICE_TRAIN_BATCH_SIZE = 4 # Adjust based on your GPU memory\n",
    "LEARNING_RATE = 2e-5\n",
    "\n",
    "training_args = TrainingArguments(\n",
    "    output_dir=PATH_LLM_MODEL,\n",
    "    num_train_epochs=NUM_TRAIN_EPOCHS,\n",
    "    per_device_train_batch_size=PER_DEVICE_TRAIN_BATCH_SIZE,\n",
    "    learning_rate=LEARNING_RATE,\n",
    "    logging_steps=20,\n",
    "    save_steps=100,\n",
    "    report_to=\"none\",\n",
    "    fp16=True if device == \"cuda\" else False,\n",
    "    gradient_accumulation_steps=2,\n",
    ")\n",
    "\n",
    "trainer = Trainer(\n",
    "    model=model,\n",
    "    args=training_args,\n",
    "    train_dataset=train_dataset,\n",
    "    tokenizer=tokenizer,\n",
    ")\n",
    "\n",
    "print(\"--- Starting LLM Fine-Tuning ---\")\n",
    "trainer.train()\n",
    "print(\"--- LLM Training Complete ---\")"
   ]
  },
  {
   "cell_type": "markdown",
   "metadata": {},
   "source": [
    "## 4.4 Save Final Model\n",
    "\n",
    "Save the final model and tokenizer to the experiments directory."
   ]
  },
  {
   "cell_type": "code",
   "execution_count": null,
   "metadata": {},
   "outputs": [],
   "source": [
    "print(f\"Saving final LLM to {PATH_LLM_MODEL}\")\n",
    "trainer.save_model(PATH_LLM_MODEL)\n",
    "tokenizer.save_pretrained(PATH_LLM_MODEL)\n",
    "print(\"Final model saved.\")"
   ]
  }
 ],
 "metadata": {
  "kernelspec": {
   "display_name": "Python 3 (ipykernel)",
   "language": "python",
   "name": "python3"
  },
  "language_info": {
   "name": "python",
   "version": "3.10.12"
  }
 },
 "nbformat": 4,
 "nbformat_minor": 5
}